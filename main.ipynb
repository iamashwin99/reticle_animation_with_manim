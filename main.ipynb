{
 "cells": [
  {
   "cell_type": "code",
   "execution_count": 5,
   "metadata": {},
   "outputs": [],
   "source": [
    "from manim import *"
   ]
  },
  {
   "cell_type": "code",
   "execution_count": 6,
   "metadata": {},
   "outputs": [
    {
     "name": "stderr",
     "output_type": "stream",
     "text": [
      "                                                                                                \r"
     ]
    },
    {
     "data": {
      "text/html": [
       "<video src=\"media/jupyter/RotatingReticle@2024-03-11@00-10-39.mp4\" controls autoplay loop style=\"max-width: 75%;\"  >\n",
       "      Your browser does not support the <code>video</code> element.\n",
       "    </video>"
      ],
      "text/plain": [
       "<IPython.core.display.Video object>"
      ]
     },
     "metadata": {},
     "output_type": "display_data"
    }
   ],
   "source": [
    "%%manim -qm RotatingReticle\n",
    "class RotatingReticle(Scene):\n",
    "    def construct(self):\n",
    "        # Create the solid circular disk\n",
    "        disk = Circle(radius=2, fill_opacity=1, color=WHITE)\n",
    "\n",
    "        # Create the patterned sector\n",
    "        sector_angle = TAU/12  # Angle of each sector (30 degrees)\n",
    "        filled_sectors = VGroup(\n",
    "            Sector(outer_radius=2, inner_radius=0, start_angle=0, angle=sector_angle/2, color=BLACK),\n",
    "            Sector(outer_radius=2, inner_radius=0, start_angle=1.5*sector_angle, angle=sector_angle, color=BLACK),\n",
    "            Sector(outer_radius=2, inner_radius=0, start_angle=3.5*sector_angle, angle=sector_angle, color=BLACK),\n",
    "            Sector(outer_radius=2, inner_radius=0, start_angle=5.5*sector_angle, angle=sector_angle/2, color=BLACK),\n",
    "        )\n",
    "        patterned_sector = filled_sectors.copy()\n",
    "\n",
    "        # Combine the disk and patterned sector\n",
    "        reticle = VGroup(disk, patterned_sector)\n",
    "\n",
    "        # Animate the reticle rotation\n",
    "        self.play(Rotate(reticle, angle=TAU, about_point=ORIGIN, run_time=4, rate_func=linear))\n",
    "        self.wait(1)"
   ]
  },
  {
   "cell_type": "code",
   "execution_count": null,
   "metadata": {},
   "outputs": [],
   "source": []
  }
 ],
 "metadata": {
  "language_info": {
   "name": "python"
  }
 },
 "nbformat": 4,
 "nbformat_minor": 2
}
